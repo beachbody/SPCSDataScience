{
 "cells": [
  {
   "cell_type": "markdown",
   "id": "f5c4abc0",
   "metadata": {},
   "source": [
    "# Intel® Extension for Scikit-learn Random Forest for Yolanda dataset"
   ]
  },
  {
   "cell_type": "code",
   "execution_count": 2,
   "id": "23512089",
   "metadata": {},
   "outputs": [],
   "source": [
    "from timeit import default_timer as timer\n",
    "from sklearn import metrics\n",
    "from IPython.display import HTML\n",
    "from sklearn.datasets import fetch_openml\n",
    "from sklearn.datasets import make_regression\n",
    "from sklearn.model_selection import train_test_split\n",
    "from DataScience.connection import *\n",
    "from sklearnex import patch_sklearn\n",
    "patch_sklearn()\n",
    "from sklearn.ensemble import RandomForestRegressor\n",
    "\n",
    "\n",
    "import joblib\n",
    "import os\n",
    "import logging\n",
    "import pandas as pd\n",
    "import datetime"
   ]
  },
  {
   "cell_type": "code",
   "execution_count": 1,
   "id": "7f43e402",
   "metadata": {},
   "outputs": [],
   "source": [
    "x, y = make_regression(n_samples=1000000, n_features=100, n_informative=10, random_state=42)\n",
    "x_train, x_test, y_train, y_test = train_test_split(x, y, test_size=0.3, random_state=72)\n",
    "print(x_train.shape, x_test.shape, y_train.shape, y_test.shape)"
   ]
  },
  {
   "cell_type": "code",
   "execution_count": null,
   "id": "1b649195",
   "metadata": {},
   "outputs": [],
   "source": [
    "# Shrink for experimental use case\n",
    "x_train = x_train[:1000]\n",
    "y_train= y_train[:1000]\n"
   ]
  },
  {
   "cell_type": "code",
   "execution_count": null,
   "id": "9fde72a9",
   "metadata": {},
   "outputs": [],
   "source": [
    "session = create_snowflake_session()\n",
    "session.file.get(\n",
    "    stage_location=os.path.join(\"@CONTAINER_DEMO_DB.PUBLIC.RDF_MODEL\", \"ml_model.joblib\"),\n",
    "    target_directory='.'\n",
    ")\n"
   ]
  },
  {
   "cell_type": "code",
   "execution_count": null,
   "id": "2248d152",
   "metadata": {},
   "outputs": [],
   "source": [
    "model = joblib.load('ml_model.joblib')\n",
    "os.unlink('ml_model.joblib')\n",
    "display(model)"
   ]
  },
  {
   "cell_type": "code",
   "execution_count": null,
   "id": "29b212f5",
   "metadata": {},
   "outputs": [],
   "source": [
    "preds = model.predict(x_test[:10])\n",
    "df = pd.DataFrame(preds, columns=['predictions'])\n",
    "df['systime'] = datetime.datetime.now().strftime(\"%Y-%m-%d %H:%M:%S\")\n",
    "_ = session.write_pandas(df = df, table_name='PREDICTION_EXAMPLE', auto_create_table=True, overwrite=False)"
   ]
  },
  {
   "cell_type": "code",
   "execution_count": null,
   "id": "9e5b47a5",
   "metadata": {},
   "outputs": [],
   "source": [
    "session.sql(\"SELECT * FROM PREDICTION_EXAMPLE LIMIT 10\").show()"
   ]
  },
  {
   "cell_type": "code",
   "execution_count": null,
   "id": "7d9ab245",
   "metadata": {},
   "outputs": [],
   "source": [
    "session.sql(\"SELECT COUNT(1) FROM PREDICTION_EXAMPLE\").show()"
   ]
  }
 ],
 "metadata": {
  "kernelspec": {
   "display_name": "Python 3 (ipykernel)",
   "language": "python",
   "name": "python3"
  },
  "language_info": {
   "codemirror_mode": {
    "name": "ipython",
    "version": 3
   },
   "file_extension": ".py",
   "mimetype": "text/x-python",
   "name": "python",
   "nbconvert_exporter": "python",
   "pygments_lexer": "ipython3",
   "version": "3.10.13"
  }
 },
 "nbformat": 4,
 "nbformat_minor": 5
}
