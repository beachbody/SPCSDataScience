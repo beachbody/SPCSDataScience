{
 "cells": [
  {
   "cell_type": "markdown",
   "id": "f5c4abc0",
   "metadata": {},
   "source": [
    "# Intel® Extension for Scikit-learn Random Forest"
   ]
  },
  {
   "cell_type": "code",
   "execution_count": null,
   "id": "23512089",
   "metadata": {
    "metadata": {}
   },
   "outputs": [],
   "source": [
    "from timeit import default_timer as timer\n",
    "from sklearn import metrics\n",
    "from IPython.display import HTML\n",
    "from sklearn.datasets import make_regression\n",
    "from sklearn.model_selection import train_test_split\n",
    "from DataScience.connection import create_snowflake_session\n",
    "from sklearnex import patch_sklearn\n",
    "patch_sklearn()\n",
    "from sklearn.ensemble import RandomForestRegressor\n",
    "\n",
    "import matplotlib.pyplot as plt\n",
    "import numpy as np\n",
    "import joblib\n",
    "import os\n",
    "import logging"
   ]
  },
  {
   "cell_type": "code",
   "execution_count": null,
   "id": "7f43e402",
   "metadata": {
    "execution": {
     "iopub.execute_input": "2024-03-20T01:32:20.453271Z",
     "iopub.status.busy": "2024-03-20T01:32:20.452688Z",
     "iopub.status.idle": "2024-03-20T01:33:04.862417Z",
     "shell.execute_reply": "2024-03-20T01:33:04.859484Z"
    },
    "metadata": {}
   },
   "outputs": [],
   "source": [
    "session = create_snowflake_session()"
   ]
  },
  {
   "cell_type": "code",
   "execution_count": null,
   "id": "8cb4f115",
   "metadata": {
    "metadata": {}
   },
   "outputs": [],
   "source": [
    "x, y = make_regression(n_samples=5000, n_features=100, n_informative=10, random_state=42)"
   ]
  },
  {
   "cell_type": "code",
   "execution_count": null,
   "id": "ca423ea6",
   "metadata": {
    "metadata": {}
   },
   "outputs": [],
   "source": [
    "x_train, x_test, y_train, y_test = train_test_split(x, y, test_size=0.3, random_state=72)\n",
    "print(x_train.shape, x_test.shape, y_train.shape, y_test.shape)"
   ]
  },
  {
   "cell_type": "code",
   "execution_count": null,
   "id": "943d87b2",
   "metadata": {
    "metadata": {}
   },
   "outputs": [],
   "source": [
    "# Shrink for experimental use case\n",
    "x_train = x_train[:1000]\n",
    "y_train= y_train[:1000]"
   ]
  },
  {
   "cell_type": "code",
   "execution_count": null,
   "id": "d8fc0996",
   "metadata": {
    "metadata": {}
   },
   "outputs": [],
   "source": [
    "params = {\"n_estimators\": 25, \"random_state\": 44, \"n_jobs\": -1}"
   ]
  },
  {
   "cell_type": "code",
   "execution_count": 7,
   "id": "fba24bfb",
   "metadata": {},
   "outputs": [],
   "source": [
    "start = timer()\n",
    "rf = RandomForestRegressor(**params).fit(x_train, y_train)\n",
    "train_patched = timer() - start\n",
    "logging.info(f\"Intel® extension for Scikit-learn time: {train_patched:.2f} s\")"
   ]
  },
  {
   "cell_type": "code",
   "execution_count": null,
   "id": "61cb957e",
   "metadata": {},
   "outputs": [],
   "source": [
    "y_pred = rf.predict(x_test[:1000])\n",
    "mse_opt = metrics.mean_squared_error(y_test[:1000], y_pred[:1000])\n",
    "logging.info(f\"Intel® extension for Scikit-learn Mean Squared Error: {mse_opt}\")\n",
    "display(rf)"
   ]
  },
  {
   "cell_type": "code",
   "execution_count": null,
   "id": "3f4e671a",
   "metadata": {},
   "outputs": [],
   "source": [
    "actual_sorted = y_test[:1000]\n",
    "predicted_sorted = y_pred\n",
    "\n",
    "plt.figure(figsize=(10, 6))\n",
    "plt.plot(actual_sorted, label='Actual', color='blue')\n",
    "plt.plot(predicted_sorted, label='Predicted', color='red', linestyle='--')\n",
    "plt.xlabel('Sample Index')\n",
    "plt.ylabel('Target Value')\n",
    "plt.title('Actual vs. Predicted Values (Top 1000 Samples)')\n",
    "plt.legend()\n",
    "plt.show()"
   ]
  },
  {
   "cell_type": "code",
   "execution_count": null,
   "id": "f6cde7d9",
   "metadata": {},
   "outputs": [],
   "source": [
    "joblib.dump(rf, './ml_model.joblib')\n",
    "session.file.put(\"ml_model.joblib\", \"@CONTAINER_DEMO_DB.PUBLIC.RDF_MODEL\", auto_compress=False, overwrite=True)\n",
    "os.unlink('./ml_model.joblib')"
   ]
  },
  {
   "cell_type": "code",
   "execution_count": null,
   "id": "5eb3dc57",
   "metadata": {},
   "outputs": [],
   "source": [
    "session.sql(\" ls @CONTAINER_DEMO_DB.PUBLIC.RDF_MODEL/\").collect()"
   ]
  }
 ],
 "metadata": {
  "kernelspec": {
   "display_name": "Python 3 (ipykernel)",
   "language": "python",
   "name": "python3"
  },
  "language_info": {
   "codemirror_mode": {
    "name": "ipython",
    "version": 3
   },
   "file_extension": ".py",
   "mimetype": "text/x-python",
   "name": "python",
   "nbconvert_exporter": "python",
   "pygments_lexer": "ipython3",
   "version": "3.10.14"
  }
 },
 "nbformat": 4,
 "nbformat_minor": 5
}
