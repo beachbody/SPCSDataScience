{
 "cells": [
  {
   "cell_type": "markdown",
   "metadata": {},
   "source": [
    "---\n",
    "title: \"Welcome Snowpark Container Services (SPCS) For Data Science\"\n",
    "format:\n",
    "    html:\n",
    "        code-fold: False\n",
    "        output: False\n",
    "    revealjs:\n",
    "        embed-resources: true\n",
    "---"
   ]
  },
  {
   "cell_type": "markdown",
   "metadata": {},
   "source": [
    "This repository is a series that will continue to evlove and find ways to use SPCS to make our lives easier as Data Scientist and Machine Learning Engineers. In this series we will be growing the snowflake native capabilities along side of SPCS to create a template to go in any direction that you are looking to be able to do. \n",
    "\n",
    "\n",
    "After you set up your work enviornment in snowflake the next steps are to build out the data science workflow you are going to go with. As this series develops \n",
    "\n",
    "\n",
    "\n",
    "## Part 1: Data Science Workload in Snowflake with SPCS\n",
    "\n",
    "Youtube Walk Through: [Link](https://www.youtube.com/watch?v=FaLgQCbQWjA&t)\n",
    "\n",
    "{{< video https://youtu.be/FaLgQCbQWjA?si=UCvwGO5U7wCo9_uU >}}\n",
    "\n",
    "Medium Article: [Link]()\n",
    "\n",
    "Github Page: [Link]()\n",
    "\n",
    "## Future Work\n",
    "\n",
    "\n",
    "1. Data Ingestion \n",
    "\n",
    "    - [Data Ingestion Snowpark Great Article](https://github.com/Snowflake-Labs/sfguide-data-engineering-with-snowpark-python/tree/main) ideally this repo eventually becomes somehting like this that allows for you to have all of the data ingestion and ml ops with it as well.\n",
    "\n",
    "\n",
    "2. Feature Store & Data Preprocessing\n",
    "\n",
    "    - Yes, snowflake is coming out with a feature store that is in PrPr, but coming soon we will go over what this might look like and how you can work through a probject with a feature store.\n",
    "        - Offline and batch feature stores will be \n",
    "\n",
    "    - Data drift is part of both of these wanting to make sure that our data has not drifted to much because if it has then it might be time to retrain your model as your model's enviornment has changed and you will not be getting the most out of your model's prediction.\n",
    "\n",
    "3. Model Training and Model Registering\n",
    "\n",
    "    - The goal here is to show the power of SPCS, Snowflake ML and Snowflake Cortext. As this is a work in progress this will take time to show all of these together, but the goal is to show how they can all work together as one.\n",
    "\n",
    "\n",
    "4. Model Inference\n",
    "\n",
    "    - Showing the options for model inference in snowflake.\n",
    "\n",
    "\n",
    "\n",
    "\n",
    "[Github Page](https://sfc-gh-jdemlow.github.io) -- Currently not working yet\n"
   ]
  },
  {
   "cell_type": "code",
   "execution_count": null,
   "metadata": {},
   "outputs": [],
   "source": []
  },
  {
   "cell_type": "code",
   "execution_count": null,
   "metadata": {},
   "outputs": [],
   "source": []
  }
 ],
 "metadata": {
  "kernelspec": {
   "display_name": "Python 3 (ipykernel)",
   "language": "python",
   "name": "python3"
  },
  "language_info": {
   "codemirror_mode": {
    "name": "ipython",
    "version": 3
   },
   "file_extension": ".py",
   "mimetype": "text/x-python",
   "name": "python",
   "nbconvert_exporter": "python",
   "pygments_lexer": "ipython3",
   "version": "3.10.14"
  }
 },
 "nbformat": 4,
 "nbformat_minor": 4
}
