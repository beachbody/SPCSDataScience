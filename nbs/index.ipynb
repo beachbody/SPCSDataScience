{
 "cells": [
  {
   "cell_type": "markdown",
   "metadata": {},
   "source": [
    "---\n",
    "title: \"DataScience Development Template Example\"\n",
    "format:\n",
    "    html:\n",
    "        code-fold: False\n",
    "        output: False\n",
    "    revealjs:\n",
    "        embed-resources: true\n",
    "---"
   ]
  },
  {
   "cell_type": "markdown",
   "metadata": {},
   "source": [
    "> **WARNING**: This is just for development this has not been approved by security or infosec to be deployed so if you are going to deploy this please understand there are risks and that this has not been full secured please review with your data goverance teams to make sure this is safe to deploy."
   ]
  },
  {
   "cell_type": "markdown",
   "metadata": {},
   "source": [
    "##### **REMEMBER TO OPEN JUPYTER AND NAGVIATE TO NBS/index.ipynb and run the commands in the notebook this will allow everything to work seamlessly**"
   ]
  },
  {
   "cell_type": "markdown",
   "metadata": {},
   "source": [
    "## Create Local Conda Environment\n",
    "\n",
    "> **Warning**: You must have conda installed on your computer already before you are able to work through this process.\n",
    "\n",
    "You will use this to run your streamlit app locally with streamlit and your env variables this is more for the developer that wants to make quick changes with streamlit before wanting to test the build"
   ]
  },
  {
   "cell_type": "code",
   "execution_count": null,
   "metadata": {},
   "outputs": [],
   "source": [
    "#|output: false\n",
    "! conda create --name snowpark2 --override-channels -c https://repo.anaconda.com/pkgs/snowflake python=3.10 --y; conda activate snowpark2; pip install -r ../infra/requirements.txt"
   ]
  },
  {
   "cell_type": "markdown",
   "metadata": {},
   "source": [
    "Once installed you will want to switch your kernerl to snowpark2 so you might need to close jupyter and re-open to get into the correct enviornment."
   ]
  },
  {
   "cell_type": "markdown",
   "metadata": {},
   "source": [
    "## Creating a Symlink"
   ]
  },
  {
   "cell_type": "code",
   "execution_count": null,
   "metadata": {},
   "outputs": [],
   "source": [
    "# Create Symlink for Notebook\n",
    "! ln -s ../DataScience/ ./DataScience"
   ]
  },
  {
   "cell_type": "markdown",
   "metadata": {},
   "source": [
    "## Load Libraries Needed"
   ]
  },
  {
   "cell_type": "code",
   "execution_count": null,
   "metadata": {},
   "outputs": [],
   "source": [
    "#| hide\n",
    "%load_ext autoreload\n",
    "%autoreload 2"
   ]
  },
  {
   "cell_type": "code",
   "execution_count": null,
   "metadata": {},
   "outputs": [],
   "source": [
    "from DataScience.connection import *\n",
    "\n",
    "import os\n",
    "import pandas as pd"
   ]
  },
  {
   "cell_type": "markdown",
   "metadata": {},
   "source": [
    "## Create Local Authorization Json\n",
    "\n",
    "> If you don't have your enviornment variables ready then you can go ahead and create a demo_auth.json you will need to put `load_credentials('demo_auth.json')` in the create_snowflake_session()"
   ]
  },
  {
   "cell_type": "code",
   "execution_count": null,
   "metadata": {},
   "outputs": [],
   "source": [
    "# write_to_json('myUsername', 'myPassword', 'myAccount', 'demo_auth.json')"
   ]
  },
  {
   "cell_type": "code",
   "execution_count": null,
   "metadata": {},
   "outputs": [],
   "source": [
    "# !ls | grep demo_auth"
   ]
  },
  {
   "cell_type": "markdown",
   "metadata": {},
   "source": [
    "## Create Session and Execute Set Up"
   ]
  },
  {
   "cell_type": "code",
   "execution_count": null,
   "metadata": {},
   "outputs": [],
   "source": [
    "#|output: false\n",
    "session = create_snowflake_session()"
   ]
  },
  {
   "cell_type": "code",
   "execution_count": null,
   "metadata": {},
   "outputs": [],
   "source": [
    "#|output: false\n",
    "execute_sql_file(\n",
    "    session,\n",
    "    file_path='DataScience/files/sql/00_setup.sql'\n",
    ")"
   ]
  },
  {
   "cell_type": "markdown",
   "metadata": {},
   "source": [
    "![SetUp Creates](../DataScience/files/images/00_setup.png)"
   ]
  },
  {
   "cell_type": "markdown",
   "metadata": {},
   "source": [
    "We want to make sure out image repository was created so we will run the following command"
   ]
  },
  {
   "cell_type": "code",
   "execution_count": null,
   "metadata": {},
   "outputs": [],
   "source": [
    "# Removing 'repository_url' column from output to secure the URL link\n",
    "display(pd.DataFrame(session.sql(f\"SHOW IMAGE REPOSITORIES;\").collect())[['created_on', 'name', 'database_name', 'schema_name', 'owner', 'owner_role_type', 'comment', 'repository_url']])\n",
    "pd.DataFrame(session.sql(f\"SHOW IMAGE REPOSITORIES;\").collect())[['repository_url']].values[0][0]"
   ]
  },
  {
   "cell_type": "markdown",
   "metadata": {},
   "source": [
    "^^string above is going to be your repository that you will put into the cells below to make your make file."
   ]
  },
  {
   "cell_type": "markdown",
   "metadata": {},
   "source": [
    "::: {.callout-note title=\"Explain Setup Execution Code\" collapse=\"true\"}\n",
    "\n",
    "# Snowflake Setup for Container Usage\n",
    "\n",
    "## Step 1: Create a Role with Required Privileges\n",
    "First, we switch to the `ACCOUNTADMIN` role to create a new role and grant it necessary privileges. These privileges include creating databases, warehouses, compute pools, and integrations, monitoring usage, binding service endpoints, and importing privileges on specific databases.\n",
    "\n",
    "> SYSADMIN should be used for roles, but I am lazy in this to not do this quite properly so make sure you make these changes before fully deploying this use case.\n",
    "\n",
    "```sql\n",
    "USE ROLE ACCOUNTADMIN;\n",
    "CREATE ROLE CONTAINER_USER_ROLE;\n",
    "GRANT CREATE DATABASE ON ACCOUNT TO ROLE CONTAINER_USER_ROLE;\n",
    "GRANT CREATE WAREHOUSE ON ACCOUNT TO ROLE CONTAINER_USER_ROLE;\n",
    "GRANT CREATE COMPUTE POOL ON ACCOUNT TO ROLE CONTAINER_USER_ROLE;\n",
    "GRANT CREATE INTEGRATION ON ACCOUNT TO ROLE CONTAINER_USER_ROLE;\n",
    "GRANT MONITOR USAGE ON ACCOUNT TO ROLE CONTAINER_USER_ROLE;\n",
    "GRANT BIND SERVICE ENDPOINT ON ACCOUNT TO ROLE CONTAINER_USER_ROLE;\n",
    "GRANT IMPORTED PRIVILEGES ON DATABASE snowflake TO ROLE CONTAINER_USER_ROLE;\n",
    "```\n",
    "\n",
    "## Step 2: Grant the New Role to `ACCOUNTADMIN`\n",
    "Next, we ensure the `ACCOUNTADMIN` role can use the newly created role.\n",
    "\n",
    "```sql\n",
    "GRANT ROLE CONTAINER_USER_ROLE TO ROLE ACCOUNTADMIN;\n",
    "```\n",
    "\n",
    "## Step 3: Create Warehouse\n",
    "Here, we create a new warehouse with specified parameters such as size, auto-suspend, and auto-resume settings.\n",
    "\n",
    "```sql\n",
    "CREATE OR REPLACE WAREHOUSE CONTAINER_DEMO_WH\n",
    "WAREHOUSE_SIZE = XSMALL\n",
    "AUTO_SUSPEND = 120\n",
    "AUTO_RESUME = TRUE;\n",
    "GRANT USAGE ON WAREHOUSE CONTAINER_DEMO_WH TO ROLE CONTAINER_USER_ROLE;\n",
    "```\n",
    "\n",
    "## Step 4: Setup Database and Stages\n",
    "Switching to the `CONTAINER_USER_ROLE`, we create a database and stages for specifications and volumes, setting encryption for both.\n",
    "\n",
    "```sql\n",
    "USE ROLE CONTAINER_USER_ROLE;\n",
    "CREATE OR REPLACE DATABASE CONTAINER_DEMO_DB;\n",
    "USE DATABASE CONTAINER_DEMO_DB;\n",
    "CREATE STAGE IF NOT EXISTS specs ENCRYPTION = (TYPE='SNOWFLAKE_SSE');\n",
    "CREATE STAGE IF NOT EXISTS volumes ENCRYPTION = (TYPE='SNOWFLAKE_SSE') DIRECTORY = (ENABLE = TRUE);\n",
    "```\n",
    "\n",
    "## Step 5: Create and Configure Image Repository\n",
    "Finally, we create an image repository within the public schema of the `CONTAINER_DEMO_DB` database and grant read/write access to the `CONTAINER_USER_ROLE`. This repository is intended for Streamlit usage.\n",
    "\n",
    "```sql\n",
    "CREATE IMAGE REPOSITORY CONTAINER_DEMO_DB.PUBLIC.IMAGE_REPO COMMENT = 'This is for streamlit usage';\n",
    "GRANT READ ON IMAGE REPOSITORY CONTAINER_DEMO_DB.PUBLIC.IMAGE_REPO TO ROLE CONTAINER_USER_ROLE;\n",
    "GRANT WRITE ON IMAGE REPOSITORY CONTAINER_DEMO_DB.PUBLIC.IMAGE_REPO TO ROLE CONTAINER_USER_ROLE;\n",
    "```\n",
    "\n",
    "\n",
    ":::"
   ]
  },
  {
   "cell_type": "markdown",
   "metadata": {},
   "source": [
    "## Configure Yaml Files\n",
    "\n",
    "> **Warning**: Set up config.toml with snow sql need to be set up before running configure.sh and ensure Docker is on your computer"
   ]
  },
  {
   "cell_type": "code",
   "execution_count": null,
   "metadata": {},
   "outputs": [],
   "source": [
    "#|output: false\n",
    "# The last output of this will be the url you put here\n",
    "! rm ../modeling.yaml\n",
    "! rm ../Makefile\n",
    "! bash ../infra/configure.sh -r \"sfsenorthamerica-demo-jdemlow.registry.snowflakecomputing.com/container_demo_db/public/image_repo\" -w \"CONTAINER_DEMO_WH\" -i \"modeling\""
   ]
  },
  {
   "cell_type": "code",
   "execution_count": null,
   "metadata": {},
   "outputs": [],
   "source": [
    "#|output: false\n",
    "! cat ../modeling.yaml"
   ]
  },
  {
   "cell_type": "markdown",
   "metadata": {},
   "source": [
    "#### Move Newly Created Spec File (streamlit.yaml) to Stage @specs"
   ]
  },
  {
   "cell_type": "code",
   "execution_count": null,
   "metadata": {},
   "outputs": [],
   "source": [
    "stage_location = r'@specs'\n",
    "stage_location = stage_location.strip('@')\n",
    "file_path = '../modeling.yaml'\n",
    "\n",
    "put_results = session.file.put(local_file_name=file_path, stage_location=stage_location, auto_compress=False, overwrite=True)\n",
    "for result in put_results:\n",
    "    print(f\"File: {result.source}, Status: {result.status}\")\n",
    "display(pd.DataFrame(session.sql('ls @specs').collect()))"
   ]
  },
  {
   "cell_type": "markdown",
   "metadata": {},
   "source": [
    "#### Login Into Snowflake Image Repo and Push Docker Image\n",
    "\n",
    "#### Run Locally Ensure\n",
    "\n",
    "You need to test this locally designed to allow you to have a better understanding  ``make build_local; make run`` and make sure it's working as you would expect it then move on to the next steps. \n",
    "1. Download docker desktop and ensure it is open and running.\n",
    "    - > **Warning**: Make sure you have docker running and make sure you have logged in already ``~/.docker/config.json`` you can check this or run docker login in the terminal\n",
    "    - > **Also make sure you make your .env file in infra** for your enviornment vairiables to be used in your docker-compose.yaml. As you grow out of this tutorial mode the next step here would be to create github actions to create these approaches so that you are able to run this in a more devops style approach. In future versions this will be shown.\n",
    "2. Open Terminal navigate to this repo and run ``make build_local``\n",
    "    - If you are using VS code you can simple click terminal and paste the command\n",
    "3. After your local build is complete you can then run ``make run``.\n",
    "    - This is going to be running a docker compose process that can be viewed inside of the infra/ folder\n",
    "\n",
    "\n",
    "#### Pictures of Steps\n",
    "\n",
    "![Make build](../DataScience/files/images/make_build_local.png)\n",
    "\n",
    "![Jupyterlab Initial](../DataScience/files/images/jupyterlab_1.png)\n",
    "\n",
    "![Jupyterlab Logged In](../DataScience/files/images/jupyterlab_2.png)\n",
    "\n",
    "![Jupyterlab Execute Imports](../DataScience/files/images/jupyterlab_3.png)\n",
    "\n",
    "> **Note**: As SPCS will not allow your volumes to be respected in a two way methodology we have observed that COPY statements in your dockerfile which land in a directory which are then stage-mounted as a volume will NOT initialize the file in-stage. We have on open product gap for this but has thus far been low-priority currently so we are going to bring this repo to our development experience using the github, gitlab, bitbucket etc integrations later on in this process. So if you are wondering why we are using gh cli to bring the repo to the docker image this is one of the reasons.\n",
    "\n",
    "\n",
    "\n",
    "> You also need to make sure you are able to login in with snowql and snow cli to be able to run the following commands\n",
    "\n",
    "#### Login, Create, Push To Snowflake"
   ]
  },
  {
   "cell_type": "code",
   "execution_count": null,
   "metadata": {},
   "outputs": [],
   "source": [
    "#|output: false\n",
    "! cd ../ &&  make all"
   ]
  },
  {
   "cell_type": "markdown",
   "metadata": {},
   "source": [
    "::: {.callout-note title=\"Explain Make File Call\" collapse=\"true\"}\n",
    "The `make all` command in the context of a Makefile is a target that typically encompasses a series of dependent tasks required to build a project. It's designed to automate the process of compiling, building, and preparing a software application or service. Here's a step-by-step explanation of what `make all` does in the provided Makefile script:\n",
    "\n",
    "1. **`login:`** This target logs into the Snowflake Docker repository. It's the initial step to ensure that subsequent operations, such as pushing a Docker image, can authenticate against the Snowflake registry. The `docker login` command uses the `$(SNOWFLAKE_REPO)` variable, which should contain the URL of the Snowflake Docker repository.\n",
    "\n",
    "2. **`build:`** This target builds a Docker image for Snowpark Container Services. It specifies the platform as `linux/amd64`, uses a Dockerfile located in the `infra` directory, and tags the resulting image with the name specified in the `$(DOCKER_IMAGE)` variable. This step prepares the Docker image with the necessary environment and dependencies for the application.\n",
    "\n",
    "3. **`push_docker:`** After the Docker image is built, this target tags and pushes it to the Snowflake Container Services repository specified in the `$(SNOWFLAKE_REPO)` variable. This makes the Docker image available in Snowflake's registry, allowing it to be used in Snowflake Container Services.\n",
    "\n",
    "In summary, `make all` in this script is a composite command that automates the workflow of logging into the Snowflake Docker repository, building a Docker image tailored for Snowpark Container Services, and pushing the built image to the Snowflake repository. This streamlines the deployment process, ensuring that the Docker image is readily available in Snowflake for running services or applications.\n",
    "\n",
    "\n",
    ":::"
   ]
  },
  {
   "cell_type": "code",
   "execution_count": null,
   "metadata": {},
   "outputs": [],
   "source": [
    "#|output: false\n",
    "execute_sql_file(\n",
    "    session,\n",
    "    file_path='DataScience/files/sql/01_container_services.sql'\n",
    ")"
   ]
  },
  {
   "cell_type": "markdown",
   "metadata": {},
   "source": [
    "::: {.callout-note title=\"Explain Container Services Execution Code\" collapse=\"true\"}\n",
    "\n",
    "# Snowflake Configuration for Some Enhanced Security and Services\n",
    "\n",
    "## Step 1: Create Security Integration for OAuth\n",
    "Sets up an OAuth security integration for authentication purposes.\n",
    "\n",
    "```sql\n",
    "USE ROLE ACCOUNTADMIN;\n",
    "CREATE SECURITY INTEGRATION IF NOT EXISTS snowservices_ingress_oauth\n",
    "  TYPE=oauth\n",
    "  OAUTH_CLIENT=snowservices_ingress\n",
    "  ENABLED=true;\n",
    "```\n",
    "\n",
    "## Step 2: Configure Network Rules and External Access\n",
    "Defines a network rule to allow all outbound traffic on ports 443 and 80, and creates an external access integration to permit this traffic.\n",
    "\n",
    "```sql\n",
    "CREATE OR REPLACE NETWORK RULE ALLOW_ALL_RULE\n",
    "  TYPE = 'HOST_PORT'\n",
    "  MODE = 'EGRESS'\n",
    "  VALUE_LIST= ('0.0.0.0:443', '0.0.0.0:80');\n",
    "\n",
    "CREATE OR REPLACE EXTERNAL ACCESS INTEGRATION ALLOW_ALL_EAI\n",
    "  ALLOWED_NETWORK_RULES = (ALLOW_ALL_RULE)\n",
    "  ENABLED = true;\n",
    "```\n",
    "\n",
    "## Step 3: Grant Usage on Integrations\n",
    "Grants the `CONTAINER_USER_ROLE` usage permission on the external access integration.\n",
    "\n",
    "```sql\n",
    "GRANT USAGE ON INTEGRATION ALLOW_ALL_EAI TO ROLE CONTAINER_USER_ROLE;\n",
    "```\n",
    "\n",
    "## Step 4: Create Compute Pool\n",
    "Establishes a compute pool with specified node limits and instance family for processing.\n",
    "\n",
    "```sql\n",
    "CREATE COMPUTE POOL IF NOT EXISTS CONTAINER_DEMO_POOL\n",
    "  MIN_NODES = 1\n",
    "  MAX_NODES = 1\n",
    "  INSTANCE_FAMILY = standard_1;\n",
    "GRANT USAGE ON COMPUTE POOL CONTAINER_DEMO_POOL TO ROLE CONTAINER_USER_ROLE;\n",
    "```\n",
    "\n",
    "## Step 5: Create Streamlit Snowpark Service\n",
    "Creates a Streamlit Snowpark service using the compute pool and specifies external access integrations for it.\n",
    "\n",
    "```sql\n",
    "USE ROLE CONTAINER_USER_ROLE;\n",
    "CREATE SERVICE CONTAINER_DEMO_DB.PUBLIC.STREAMLIT_SNOWPARK_SERVICE\n",
    "in compute pool CONTAINER_DEMO_POOL\n",
    "from @specs\n",
    "specification_file='streamlit.yaml'\n",
    "external_access_integrations = (ALLOW_ALL_EAI)\n",
    "MIN_INSTANCES=1\n",
    "MAX_INSTANCES=1;\n",
    "```\n",
    "\n",
    "## Step 6: User Creation and Role Assignment\n",
    "Creates a user with specified credentials, default role, and warehouse. Grants the user and the role usage permissions on various resources.\n",
    "\n",
    "```sql\n",
    "USE ROLE ACCOUNTADMIN;\n",
    "CREATE OR REPLACE USER RANDOMEMPLOYEE\n",
    "IDENTIFIED BY 'Snowflake2024'\n",
    "DEFAULT_ROLE = 'CONTAINER_USER_ROLE'\n",
    "DEFAULT_WAREHOUSE = 'CONTAINER_DEMO_WH';\n",
    "GRANT ROLE CONTAINER_USER_ROLE TO USER RANDOMEMPLOYEE;\n",
    "GRANT USAGE ON WAREHOUSE CONTAINER_DEMO_WH TO ROLE CONTAINER_USER_ROLE;\n",
    "GRANT USAGE ON SERVICE STREAMLIT_SNOWPARK_SERVICE TO ROLE CONTAINER_USER_ROLE;\n",
    "```\n",
    ":::"
   ]
  },
  {
   "cell_type": "markdown",
   "metadata": {},
   "source": [
    "## Looking Into Service Created"
   ]
  },
  {
   "cell_type": "code",
   "execution_count": null,
   "metadata": {},
   "outputs": [],
   "source": [
    "session.sql(\"SHOW SERVICES;\").show()"
   ]
  },
  {
   "cell_type": "markdown",
   "metadata": {},
   "source": [
    "**Remember**: That this will take a few minutes of your service to be up and running so you will be able run the following command again and it will give you the url link that will allow you to log into your app with the correct Username and Password.\n",
    "\n",
    "> ``CALL SYSTEM$GET_SERVICE_STATUS('CONTAINER_DEMO_DB.PUBLIC.MODELING_SNOWPARK_SERVICE');`` You can also try this command to see the status of your service you might get an ingress_url before the pending state is resolved."
   ]
  },
  {
   "cell_type": "code",
   "execution_count": null,
   "metadata": {},
   "outputs": [],
   "source": [
    "temp = pd.DataFrame(session.sql(\"SHOW ENDPOINTS IN SERVICE MODELING_SNOWPARK_SERVICE;\").collect())\n",
    "display(temp)\n",
    "print(temp[\"ingress_url\"].values[0])"
   ]
  },
  {
   "cell_type": "markdown",
   "metadata": {},
   "source": [
    "Assuming ingest_url contains the URL you want to copy and paste this URL into your browser and enjoy your modeling jupyter notebook.\n",
    "\n",
    "1. Open in web broswer and paste the ingress_url\n",
    "2. This will open a login page for this demo it is\n",
    "    - Usename: RandomEmployee\n",
    "    - Password: Snowflake2024\n",
    "3. Streamlit App Will Load and Your Application is ready to go\n"
   ]
  },
  {
   "cell_type": "markdown",
   "metadata": {},
   "source": [
    "# Snowflake Application Deployment\n",
    "\n",
    "## Overview\n",
    "This guide will walk you through the process of deploying a Snowflake application, cloning a repository, setting up GitHub secrets, triggering a GitHub Actions workflow, and exploring the resulting models and predictions stored in Snowflake.\n",
    "\n",
    "### Prerequisites\n",
    "Before you begin, ensure that you have the following:\n",
    "- Docker installed and configured on your local machine\n",
    "- A GitHub account with a repository set up for your project\n",
    "- Access to a Snowflake instance with the necessary permissions\n",
    "\n",
    "## Getting Started\n",
    "\n",
    "With the Docker image now deployed and ready, we are poised to explore the capabilities of our newly created application. Navigate to a website with a URL ending in `.snowflakecomputing.app` to begin.\n",
    "\n",
    "![Open Application](./DataScience/files/images/openapp.png)\n",
    "\n",
    "Upon reaching the site, log in using the credentials for \"RandomEmployee\". This process grants access to your development ecosystem.\n",
    "\n",
    "> **Warning**: Allow 5-10 minutes for the application to become fully operational. Initial errors can often be resolved by refreshing the page or attempting to log in again after a brief wait.\n",
    "\n",
    "The next step involves using a secure token found within your Docker Image. If unchanged, the default token \"my_secure_token\" enhances application security, although its use is optional.\n",
    "\n",
    "![First Screen Add Token](./DataScience/files/images/login_first_page.png)\n",
    "\n",
    "Post-login, you may notice the development ecosystem appears empty. This is due to the absence of a cloned repository. Although it may seem unconventional, cloning a repo into the development application addresses a known product gap, set for future resolution. Additionally, integration with Git in PrPr is forthcoming, offering a more streamlined experience with repositories.\n",
    "\n",
    "![Open Terminal as Jupyter Lab Is Empty](./DataScience/files/images/open_terminal.png)\n",
    "\n",
    "![Clone Repo to Jupyter Lab Session](./DataScience/files/images/clone_repo.png)\n",
    "\n",
    "Having cloned your repository, feel free to start development. Remember to push changes back to your Git repository to remain updated with the latest revisions. Your code is safely stored in a designated volume, accessible via `ls @volumes/jupyter-nbs/` in Snowflake, complying with specified requirements.\n",
    "\n",
    "## GitHub Integration\n",
    "\n",
    "To integrate your project with GitHub and enable automated workflows, follow these steps:\n",
    "\n",
    "1. **Set up GitHub Secrets**: Ensure your GitHub repository contains the necessary secrets for authentication and access to your Snowflake instance. The setup should resemble the image below.\n",
    "\n",
    "   ![Add GitHub Secrets](./DataScience/files/images/add_secerts.png)\n",
    "\n",
    "   Refer to the [GitHub Secrets documentation](https://docs.github.com/en/actions/security-guides/encrypted-secrets) for detailed instructions on how to create and manage secrets for your repository.\n",
    "\n",
    "2. **Configure GitHub Actions**: With GitHub secrets in place, navigate to your repository's GitHub Actions to trigger the workflow.\n",
    "\n",
    "   ![Go to Repo Actions](./DataScience/files/images/github_action.png)\n",
    "\n",
    "3. **Trigger the Workflow**: Manually trigger the workflow by selecting the appropriate action and providing any necessary inputs.\n",
    "\n",
    "   ![Trigger Workflow](./DataScience/files/images/run_github_action.png)\n",
    "\n",
    "   Successfully triggering the workflow culminates in the construction of a RandomForestRegressor. This model, once trained, is utilized for predictions, subsequently recorded back into Snowflake. Future tutorials will delve into more sophisticated workflows, enhancing your data science projects within Snowflake.\n",
    "\n",
    "> **Caution**: This tutorial does not encompass the entirety of a data science project's requirements. It serves as an introductory guide, with plans to expand on Snowflake's native ML capabilities, Cortex, and other projects. Stay tuned for updates and explore different branches for additional developments.\n",
    "\n",
    "## Exploring Results\n",
    "\n",
    "After workflow completion, delve into the notebooks for insights and outcomes verification.\n",
    "\n",
    "![Click into job_nbs](./DataScience/files/images/click_jobs_nbs.png)\n",
    "\n",
    "![Click into RanJobs](./DataScience/files/images/jobs_ran_from_github.png)\n",
    "\n",
    "![Result of GitHub Actions](./DataScience/files/images/result_of_action.png)\n",
    "\n",
    "Reviewing these notebooks aids in debugging and ensures everything performed as expected.\n",
    "\n",
    "![Explore Inference Notebook Run](./DataScience/files/images/look_at_ran_nbs.png)\n",
    "\n",
    "For continued exploration, re-triggering the notebook facilitates additional predictions, exemplifying how automation, such as cron jobs in GitHub, can enhance your workflow.\n",
    "\n",
    "![Run Action Again](./DataScience/files/images/run_again.png)\n",
    "\n",
    "Finally, view the prediction outcomes within your Snowflake database.\n",
    "\n",
    "![Snowflake Database](./DataScience/files/images/final_result.png)\n",
    "\n",
    "## Troubleshooting\n",
    "\n",
    "If you encounter any issues during the deployment process, here are some common troubleshooting steps:\n",
    "\n",
    "1. **Login Issues**: If you're unable to log in, ensure that you're using the correct credentials and that the application has had sufficient time to become operational.\n",
    "2. **GitHub Secrets**: Double-check that your GitHub secrets are set up correctly and that the required permissions are in place.\n",
    "3. **Workflow Errors**: Review the output from the GitHub Actions workflow for any error messages or clues about what might be causing the issue.\n",
    "4. **Snowflake Connectivity**: Verify that your Snowflake instance is accessible and that you have the necessary permissions to interact with it.\n",
    "\n",
    "If the issue persists, feel free to reach out to the support team for further assistance.\n",
    "\n",
    "## Additional Resources\n",
    "\n",
    "For more advanced topics, code examples, and updates, please refer to the following resources:\n",
    "\n",
    "- [Snowflake Documentation](https://docs.snowflake.com/)\n",
    "- [Snowflake GitHub Repository](https://github.com/snowflakedb)\n",
    "- [Snowflake Community](https://community.snowflake.com/)\n",
    "- [GitHub Actions Documentation](https://docs.github.com/en/actions)\n",
    "\n",
    "We encourage you to provide feedback on this documentation by submitting issues or pull requests."
   ]
  },
  {
   "cell_type": "markdown",
   "metadata": {},
   "source": [
    "# Clean Up"
   ]
  },
  {
   "cell_type": "code",
   "execution_count": null,
   "metadata": {},
   "outputs": [],
   "source": [
    "#|output: false\n",
    "execute_sql_file(\n",
    "    session,\n",
    "    file_path='DataScience/files/sql/03_teardown.sql'\n",
    ")"
   ]
  },
  {
   "cell_type": "markdown",
   "metadata": {},
   "source": [
    "# Conclusion"
   ]
  },
  {
   "cell_type": "markdown",
   "metadata": {},
   "source": [
    "This was just as simple example of the power of creating modeling application with in snowflake in a fast an secure fashion that you are able to share with your teams across your organizations please make sure you come back for more examples like this as we will begin to build more and more use cases inside of the SPCS as this is going to be a powerful building block to unlock the full potential of snowflake as a platform."
   ]
  },
  {
   "cell_type": "code",
   "execution_count": null,
   "metadata": {},
   "outputs": [],
   "source": [
    "gh auth login\n",
    "git config --global user.name \"sfc-gsfc-gh-jdemlow\"\n",
    "git config --global credential.helper cacheche"
   ]
  }
 ],
 "metadata": {
  "kernelspec": {
   "display_name": "Python 3 (ipykernel)",
   "language": "python",
   "name": "python3"
  },
  "language_info": {
   "codemirror_mode": {
    "name": "ipython",
    "version": 3
   },
   "file_extension": ".py",
   "mimetype": "text/x-python",
   "name": "python",
   "nbconvert_exporter": "python",
   "pygments_lexer": "ipython3",
   "version": "3.10.13"
  }
 },
 "nbformat": 4,
 "nbformat_minor": 4
}
