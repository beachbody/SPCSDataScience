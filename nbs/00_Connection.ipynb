{
 "cells": [
  {
   "cell_type": "markdown",
   "metadata": {},
   "source": [
    "# Connection\n",
    "\n",
    "> Helps Manage Snowflake Connection"
   ]
  },
  {
   "cell_type": "code",
   "execution_count": null,
   "metadata": {},
   "outputs": [],
   "source": [
    "#| default_exp connection"
   ]
  },
  {
   "cell_type": "code",
   "execution_count": null,
   "metadata": {},
   "outputs": [],
   "source": [
    "#| hide\n",
    "from nbdev.showdoc import *"
   ]
  },
  {
   "cell_type": "code",
   "execution_count": null,
   "metadata": {},
   "outputs": [],
   "source": [
    "#| export\n",
    "\n",
    "import os\n",
    "import json\n",
    "import warnings\n",
    "import logging\n",
    "\n",
    "from snowflake.snowpark import Session\n",
    "\n",
    "logging.getLogger('snowflake.snowpark').setLevel(logging.WARNING)"
   ]
  },
  {
   "cell_type": "code",
   "execution_count": null,
   "metadata": {},
   "outputs": [],
   "source": [
    "#| export\n",
    "\n",
    "\n",
    "def load_credentials(file_path: str) -> dict:\n",
    "    \"\"\"\n",
    "    Load credentials from a specified JSON file.\n",
    "    \"\"\"\n",
    "    if not os.path.exists(file_path):\n",
    "        raise FileNotFoundError(f\"Credentials file not found at {file_path}\")\n",
    "\n",
    "    with open(file_path) as f:\n",
    "        data = json.load(f)\n",
    "\n",
    "    required_keys = [\"username\", \"password\", \"account\"]\n",
    "    if not all(key in data for key in required_keys):\n",
    "        raise KeyError(f\"Missing required credentials in {file_path}\")\n",
    "\n",
    "    return data\n"
   ]
  },
  {
   "cell_type": "code",
   "execution_count": null,
   "metadata": {},
   "outputs": [],
   "source": [
    "#| export\n",
    "\n",
    "def write_to_json(username, password, account, file_name):\n",
    "    data = {\n",
    "        \"username\": username,\n",
    "        \"password\": password,\n",
    "        \"account\": account\n",
    "    }\n",
    "    with open(file_name, 'w') as json_file:\n",
    "        json.dump(data, json_file)\n"
   ]
  },
  {
   "cell_type": "code",
   "execution_count": null,
   "metadata": {},
   "outputs": [],
   "source": [
    "#| export\n",
    "\n",
    "\n",
    "def create_snowflake_session(creds: dict = None, creds_file_path: str = None, **kwargs) -> Session:\n",
    "    \"\"\"\n",
    "    Create a Snowflake session using Snowpark with given credentials.\n",
    "\n",
    "    This function attempts to create a session using credentials passed directly,\n",
    "    loaded from a specified file, or provided as keyword arguments. It prioritizes\n",
    "    direct credentials, then credentials file, and finally environment variables\n",
    "    and keyword arguments for any missing values.\n",
    "\n",
    "    Parameters:\n",
    "    - creds: A dictionary containing Snowflake connection parameters. Optional.\n",
    "    - creds_file_path: A path to a file from which to load credentials. Optional.\n",
    "    - **kwargs: Additional keyword arguments to override or specify connection parameters.\n",
    "\n",
    "    Returns:\n",
    "    - A Snowpark Session object if successful, None otherwise.\n",
    "    \"\"\"\n",
    "\n",
    "    if os.path.isfile(\"/snowflake/session/token\"):\n",
    "        session_config = {\n",
    "            'host': os.getenv('SNOWFLAKE_HOST'),\n",
    "            'port': os.getenv('SNOWFLAKE_PORT'),\n",
    "            'protocol': \"https\",\n",
    "            'account': os.getenv('SNOWFLAKE_ACCOUNT'),\n",
    "            'authenticator': \"oauth\",\n",
    "            'token': open('/snowflake/session/token', 'r').read(),\n",
    "            'warehouse': kwargs.get(\"warehouse\") or os.getenv('SNOWFLAKE_WAREHOUSE'),\n",
    "            'database': kwargs.get(\"database\") or os.getenv('SNOWFLAKE_DATABASE'),\n",
    "            'schema': kwargs.get(\"schema\") or os.getenv('SNOWFLAKE_SCHEMA'),\n",
    "            'client_session_keep_alive': True\n",
    "        }\n",
    "\n",
    "    elif creds_file_path is not None:\n",
    "        creds = load_credentials(creds_file_path)\n",
    "\n",
    "    else:\n",
    "        creds = creds or {}\n",
    "        session_config = {\n",
    "            'account': creds.get(\"account\") or os.getenv('SNOWFLAKE_ACCOUNT'),\n",
    "            'user': creds.get(\"username\") or os.getenv('SNOWFLAKE_USER'),\n",
    "            'password': creds.get(\"password\") or os.getenv('SNOWFLAKE_PASSWORD'),\n",
    "            'role': kwargs.get(\"role\") or os.getenv('SNOWFLAKE_ROLE', 'ACCOUNTADMIN'),\n",
    "            'warehouse': kwargs.get(\"warehouse\") or os.getenv('SNOWFLAKE_WAREHOUSE'),\n",
    "            'database': kwargs.get(\"database\") or os.getenv('SNOWFLAKE_DATABASE'),\n",
    "            'schema': kwargs.get(\"schema\") or os.getenv('SNOWFLAKE_SCHEMA'),\n",
    "            'client_session_keep_alive': True\n",
    "        }\n",
    "\n",
    "        # Check for missing or empty session configurations\n",
    "        for key in ['account', 'user', 'password', 'role', 'warehouse', 'database', 'schema']:\n",
    "            if key not in session_config or not session_config[key]:\n",
    "                warnings.warn(f\"Missing or empty session configuration for '{key}'.\")\n",
    "\n",
    "        # Update session_config with any additional kwargs\n",
    "        session_config.update(kwargs)\n",
    "\n",
    "    try:\n",
    "        session = Session.builder.configs(session_config).create()\n",
    "        logging.info(\"Snowpark session successfully created.\")\n",
    "        return session\n",
    "    except Exception as e:\n",
    "        logging.info(f\"Error creating Snowpark session: {e}\")\n",
    "        return None"
   ]
  },
  {
   "cell_type": "code",
   "execution_count": null,
   "metadata": {},
   "outputs": [],
   "source": [
    "#| export\n",
    "\n",
    "\n",
    "def get_connection_params(session):\n",
    "    \"\"\"Useful in session utility to retrieve common connection parameters\"\"\"\n",
    "    conn = session.connection\n",
    "    params = {\n",
    "        \"user\": conn.user,\n",
    "        \"role\": conn.role,\n",
    "        \"warehouse\": conn.warehouse,\n",
    "        \"database\": conn.database,\n",
    "        \"schema\": conn.schema,\n",
    "    }\n",
    "    return params\n"
   ]
  },
  {
   "cell_type": "code",
   "execution_count": null,
   "metadata": {},
   "outputs": [],
   "source": [
    "#| export\n",
    "\n",
    "\n",
    "def execute_sql_file(session: Session, file_path: str):\n",
    "    \"\"\"\n",
    "    Execute multiple SQL commands from a file using a Snowpark session.\n",
    "\n",
    "    Args:\n",
    "    session (Session): A Snowpark Session object.\n",
    "    file_path (str): Path to the SQL file containing the commands.\n",
    "\n",
    "    Raises:\n",
    "    FileNotFoundError: If the SQL file does not exist.\n",
    "    \"\"\"\n",
    "    if not os.path.exists(file_path):\n",
    "        raise FileNotFoundError(f\"SQL file not found at {file_path}\")\n",
    "\n",
    "    with open(file_path, 'r') as file:\n",
    "        sql_content = file.read()\n",
    "\n",
    "    sql_commands = [cmd.strip() for cmd in sql_content.split(';') if cmd.strip()]\n",
    "\n",
    "    for command in sql_commands:\n",
    "        try:\n",
    "            if command:\n",
    "                logging.info(f\"Executing command:\\n{command}\")\n",
    "                session.sql(command).collect()\n",
    "                logging.info(\"Successfully executed\")\n",
    "        except Exception as e:\n",
    "            logging.info(f\"Error executing command: {command}\\nError: {e}\")\n"
   ]
  },
  {
   "cell_type": "code",
   "execution_count": null,
   "metadata": {},
   "outputs": [],
   "source": [
    "#| hide\n",
    "import nbdev; nbdev.nbdev_export()"
   ]
  }
 ],
 "metadata": {
  "kernelspec": {
   "display_name": "python3",
   "language": "python",
   "name": "python3"
  }
 },
 "nbformat": 4,
 "nbformat_minor": 4
}
